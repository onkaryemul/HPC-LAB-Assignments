{
  "nbformat": 4,
  "nbformat_minor": 0,
  "metadata": {
    "colab": {
      "provenance": [],
      "gpuType": "T4"
    },
    "kernelspec": {
      "name": "python3",
      "display_name": "Python 3"
    },
    "language_info": {
      "name": "python"
    },
    "accelerator": "GPU"
  },
  "cells": [
    {
      "cell_type": "code",
      "source": [
        " !nvcc --version"
      ],
      "metadata": {
        "colab": {
          "base_uri": "https://localhost:8080/"
        },
        "id": "GxonqIzZJfeq",
        "outputId": "0bb32a4e-6197-49e3-cadc-723c1af992ea"
      },
      "execution_count": null,
      "outputs": [
        {
          "output_type": "stream",
          "name": "stdout",
          "text": [
            "nvcc: NVIDIA (R) Cuda compiler driver\n",
            "Copyright (c) 2005-2023 NVIDIA Corporation\n",
            "Built on Tue_Aug_15_22:02:13_PDT_2023\n",
            "Cuda compilation tools, release 12.2, V12.2.140\n",
            "Build cuda_12.2.r12.2/compiler.33191640_0\n"
          ]
        }
      ]
    },
    {
      "cell_type": "code",
      "source": [
        "# Problem Statement 1:\n",
        "# Execute the following program and check the properties of your GPGPU."
      ],
      "metadata": {
        "id": "7cd-DTUJXxvg"
      },
      "execution_count": null,
      "outputs": []
    },
    {
      "cell_type": "code",
      "execution_count": null,
      "metadata": {
        "colab": {
          "base_uri": "https://localhost:8080/"
        },
        "id": "4tbYtxkuHCoJ",
        "outputId": "72fbd58d-2bd5-4f37-9a37-c2e8e1818dc8"
      },
      "outputs": [
        {
          "output_type": "stream",
          "name": "stdout",
          "text": [
            "Writing device_query.cu\n"
          ]
        }
      ],
      "source": [
        "%%writefile device_query.cu\n",
        "\n",
        "#include <stdio.h>\n",
        "#include <stdlib.h>\n",
        "#include <cuda_runtime.h>  // Include CUDA runtime header\n",
        "\n",
        "int main()\n",
        "{\n",
        "    int deviceCount;\n",
        "    cudaGetDeviceCount(&deviceCount);\n",
        "    if (deviceCount == 0) {\n",
        "        printf(\"There is no device supporting CUDA\\n\");\n",
        "    }\n",
        "\n",
        "    int dev;\n",
        "    for (dev = 0; dev < deviceCount; ++dev) {\n",
        "        cudaDeviceProp deviceProp;\n",
        "        cudaGetDeviceProperties(&deviceProp, dev);\n",
        "\n",
        "        if (dev == 0) {\n",
        "            if (deviceProp.major < 1) {\n",
        "                printf(\"There is no device supporting CUDA.\\n\");\n",
        "            } else if (deviceCount == 1) {\n",
        "                printf(\"There is 1 device supporting CUDA\\n\");\n",
        "            } else {\n",
        "                printf(\"There are %d devices supporting CUDA\\n\", deviceCount);\n",
        "            }\n",
        "        }\n",
        "\n",
        "        printf(\"\\nDevice %d: \\\"%s\\\"\\n\", dev, deviceProp.name);\n",
        "        printf(\"  Major revision number:                         %d\\n\", deviceProp.major);\n",
        "        printf(\"  Minor revision number:                         %d\\n\", deviceProp.minor);\n",
        "        printf(\"  Total amount of global memory:                 %zu bytes\\n\", deviceProp.totalGlobalMem);  // Use %zu for size_t\n",
        "        printf(\"  Total amount of constant memory:               %zu bytes\\n\", deviceProp.totalConstMem);   // Use %zu for size_t\n",
        "        printf(\"  Total amount of shared memory per block:       %zu bytes\\n\", deviceProp.sharedMemPerBlock);  // Use %zu for size_t\n",
        "        printf(\"  Total number of registers available per block: %d\\n\", deviceProp.regsPerBlock);\n",
        "        printf(\"  Warp size:                                     %d\\n\", deviceProp.warpSize);\n",
        "        printf(\"  Multiprocessor count:                          %d\\n\", deviceProp.multiProcessorCount);\n",
        "        printf(\"  Maximum number of threads per block:           %d\\n\", deviceProp.maxThreadsPerBlock);\n",
        "        printf(\"  Maximum sizes of each dimension of a block:    %d x %d x %d\\n\", deviceProp.maxThreadsDim[0], deviceProp.maxThreadsDim[1], deviceProp.maxThreadsDim[2]);\n",
        "        printf(\"  Maximum sizes of each dimension of a grid:     %d x %d x %d\\n\", deviceProp.maxGridSize[0], deviceProp.maxGridSize[1],  deviceProp.maxGridSize[2]);\n",
        "        printf(\"  Maximum memory pitch:                          %zu bytes\\n\", deviceProp.memPitch);  // Use %zu for size_t\n",
        "        printf(\"  Texture alignment:                             %zu bytes\\n\", deviceProp.textureAlignment);  // Use %zu for size_t\n",
        "        printf(\"  Clock rate:                                    %d kilohertz\\n\", deviceProp.clockRate);\n",
        "    }\n",
        "}"
      ]
    },
    {
      "cell_type": "code",
      "source": [
        "!nvcc device_query.cu -o device_query"
      ],
      "metadata": {
        "id": "axOPXTdjIWsv"
      },
      "execution_count": null,
      "outputs": []
    },
    {
      "cell_type": "code",
      "source": [
        "!./device_query"
      ],
      "metadata": {
        "colab": {
          "base_uri": "https://localhost:8080/"
        },
        "id": "akYzI-qsMpcI",
        "outputId": "101fddae-035f-4c87-aa3d-56d823e3666f"
      },
      "execution_count": null,
      "outputs": [
        {
          "output_type": "stream",
          "name": "stdout",
          "text": [
            "There is 1 device supporting CUDA\n",
            "\n",
            "Device 0: \"Tesla T4\"\n",
            "  Major revision number:                         7\n",
            "  Minor revision number:                         5\n",
            "  Total amount of global memory:                 15835660288 bytes\n",
            "  Total amount of constant memory:               65536 bytes\n",
            "  Total amount of shared memory per block:       49152 bytes\n",
            "  Total number of registers available per block: 65536\n",
            "  Warp size:                                     32\n",
            "  Multiprocessor count:                          40\n",
            "  Maximum number of threads per block:           1024\n",
            "  Maximum sizes of each dimension of a block:    1024 x 1024 x 64\n",
            "  Maximum sizes of each dimension of a grid:     2147483647 x 65535 x 65535\n",
            "  Maximum memory pitch:                          2147483647 bytes\n",
            "  Texture alignment:                             512 bytes\n",
            "  Clock rate:                                    1590000 kilohertz\n"
          ]
        }
      ]
    },
    {
      "cell_type": "code",
      "source": [
        "# Problem Statement 2:\n",
        "# Write a program to where each thread prints its thread ID along with hello world. Lauch the kernel with one block and multiple threads."
      ],
      "metadata": {
        "id": "2gn34AR1XeQL"
      },
      "execution_count": null,
      "outputs": []
    },
    {
      "cell_type": "code",
      "source": [
        "%%writefile hello_world.cu\n",
        "\n",
        "#include <stdio.h>\n",
        "#include <cuda_runtime.h>  // Include CUDA runtime header\n",
        "\n",
        "__global__ void helloWorld() {\n",
        "    int threadId = threadIdx.x;\n",
        "    printf(\"Hello World from thread %d\\n\", threadId);\n",
        "}\n",
        "\n",
        "int main() {\n",
        "    helloWorld<<<1, 10>>>();\n",
        "    cudaDeviceSynchronize();  // Ensure that the kernel completes\n",
        "    return 0;\n",
        "}"
      ],
      "metadata": {
        "colab": {
          "base_uri": "https://localhost:8080/"
        },
        "id": "NTUhZ5gJXeb9",
        "outputId": "46f740b3-c914-4541-d076-828e1143c57d"
      },
      "execution_count": null,
      "outputs": [
        {
          "output_type": "stream",
          "name": "stdout",
          "text": [
            "Writing hello_world.cu\n"
          ]
        }
      ]
    },
    {
      "cell_type": "code",
      "source": [
        "!nvcc hello_world.cu -o hello_world"
      ],
      "metadata": {
        "id": "5wararIgXeeP"
      },
      "execution_count": null,
      "outputs": []
    },
    {
      "cell_type": "code",
      "source": [
        "!./hello_world"
      ],
      "metadata": {
        "colab": {
          "base_uri": "https://localhost:8080/"
        },
        "id": "DFaKgsmaXegG",
        "outputId": "addbc417-f948-4931-ef7d-0039c6e21572"
      },
      "execution_count": null,
      "outputs": [
        {
          "output_type": "stream",
          "name": "stdout",
          "text": [
            "Hello World from thread 0\n",
            "Hello World from thread 1\n",
            "Hello World from thread 2\n",
            "Hello World from thread 3\n",
            "Hello World from thread 4\n",
            "Hello World from thread 5\n",
            "Hello World from thread 6\n",
            "Hello World from thread 7\n",
            "Hello World from thread 8\n",
            "Hello World from thread 9\n"
          ]
        }
      ]
    },
    {
      "cell_type": "code",
      "source": [
        "# Problem Statement 3:\n",
        "# Write a program to where each thread prints its thread ID along with hello world. Lauch the kernel with multiple blocks and multiple threads."
      ],
      "metadata": {
        "id": "3oBiqSYgXei6"
      },
      "execution_count": null,
      "outputs": []
    },
    {
      "cell_type": "code",
      "source": [
        "%%writefile hello_world_blocks.cu\n",
        "\n",
        "#include <stdio.h>\n",
        "#include <cuda_runtime.h>  // Include CUDA runtime header\n",
        "\n",
        "__global__ void helloWorld() {\n",
        "    int threadId = threadIdx.x + blockIdx.x * blockDim.x;\n",
        "    printf(\"Hello World from thread %d (Block %d)\\n\", threadId, blockIdx.x);\n",
        "}\n",
        "\n",
        "int main() {\n",
        "    helloWorld<<<5, 10>>>();\n",
        "    cudaDeviceSynchronize();\n",
        "    return 0;\n",
        "}"
      ],
      "metadata": {
        "id": "52PPqa1pN_0B",
        "colab": {
          "base_uri": "https://localhost:8080/"
        },
        "outputId": "075d8a5e-7c73-45cc-8c89-7c20d62739aa"
      },
      "execution_count": null,
      "outputs": [
        {
          "output_type": "stream",
          "name": "stdout",
          "text": [
            "Writing hello_world_blocks.cu\n"
          ]
        }
      ]
    },
    {
      "cell_type": "code",
      "source": [
        "!nvcc hello_world_blocks.cu -o hello_world_blocks"
      ],
      "metadata": {
        "id": "0QGlWbPqaXC0"
      },
      "execution_count": null,
      "outputs": []
    },
    {
      "cell_type": "code",
      "source": [
        "!./hello_world_blocks"
      ],
      "metadata": {
        "colab": {
          "base_uri": "https://localhost:8080/"
        },
        "id": "LuCduz27aXOV",
        "outputId": "a40e67b3-41ff-4158-987e-5df09df0af12"
      },
      "execution_count": null,
      "outputs": [
        {
          "output_type": "stream",
          "name": "stdout",
          "text": [
            "Hello World from thread 40 (Block 4)\n",
            "Hello World from thread 41 (Block 4)\n",
            "Hello World from thread 42 (Block 4)\n",
            "Hello World from thread 43 (Block 4)\n",
            "Hello World from thread 44 (Block 4)\n",
            "Hello World from thread 45 (Block 4)\n",
            "Hello World from thread 46 (Block 4)\n",
            "Hello World from thread 47 (Block 4)\n",
            "Hello World from thread 48 (Block 4)\n",
            "Hello World from thread 49 (Block 4)\n",
            "Hello World from thread 10 (Block 1)\n",
            "Hello World from thread 11 (Block 1)\n",
            "Hello World from thread 12 (Block 1)\n",
            "Hello World from thread 13 (Block 1)\n",
            "Hello World from thread 14 (Block 1)\n",
            "Hello World from thread 15 (Block 1)\n",
            "Hello World from thread 16 (Block 1)\n",
            "Hello World from thread 17 (Block 1)\n",
            "Hello World from thread 18 (Block 1)\n",
            "Hello World from thread 19 (Block 1)\n",
            "Hello World from thread 30 (Block 3)\n",
            "Hello World from thread 31 (Block 3)\n",
            "Hello World from thread 32 (Block 3)\n",
            "Hello World from thread 33 (Block 3)\n",
            "Hello World from thread 34 (Block 3)\n",
            "Hello World from thread 35 (Block 3)\n",
            "Hello World from thread 36 (Block 3)\n",
            "Hello World from thread 37 (Block 3)\n",
            "Hello World from thread 38 (Block 3)\n",
            "Hello World from thread 39 (Block 3)\n",
            "Hello World from thread 20 (Block 2)\n",
            "Hello World from thread 21 (Block 2)\n",
            "Hello World from thread 22 (Block 2)\n",
            "Hello World from thread 23 (Block 2)\n",
            "Hello World from thread 24 (Block 2)\n",
            "Hello World from thread 25 (Block 2)\n",
            "Hello World from thread 26 (Block 2)\n",
            "Hello World from thread 27 (Block 2)\n",
            "Hello World from thread 28 (Block 2)\n",
            "Hello World from thread 29 (Block 2)\n",
            "Hello World from thread 0 (Block 0)\n",
            "Hello World from thread 1 (Block 0)\n",
            "Hello World from thread 2 (Block 0)\n",
            "Hello World from thread 3 (Block 0)\n",
            "Hello World from thread 4 (Block 0)\n",
            "Hello World from thread 5 (Block 0)\n",
            "Hello World from thread 6 (Block 0)\n",
            "Hello World from thread 7 (Block 0)\n",
            "Hello World from thread 8 (Block 0)\n",
            "Hello World from thread 9 (Block 0)\n"
          ]
        }
      ]
    },
    {
      "cell_type": "code",
      "source": [
        "# Problem Statement 4:\n",
        "# Write a program to where each thread prints its thread ID along with hello world. Lauch the kernel with 2D blocks and 2D threads."
      ],
      "metadata": {
        "id": "hKiwWfVZaXQv"
      },
      "execution_count": null,
      "outputs": []
    },
    {
      "cell_type": "code",
      "source": [
        "%%writefile hello_world_2D.cu\n",
        "\n",
        "#include <stdio.h>\n",
        "#include <cuda_runtime.h>  // Include CUDA runtime header\n",
        "\n",
        "__global__ void helloWorld() {\n",
        "    int threadIdX = threadIdx.x + blockIdx.x * blockDim.x;\n",
        "    int threadIdY = threadIdx.y + blockIdx.y * blockDim.y;\n",
        "    printf(\"Hello World from thread (%d, %d)\\n\", threadIdX, threadIdY);\n",
        "}\n",
        "\n",
        "int main() {\n",
        "    dim3 grid(2, 2);  // 2D grid (2x2 blocks)\n",
        "    dim3 block(4, 4);  // 2D block (4x4 threads)\n",
        "    helloWorld<<<grid, block>>>();\n",
        "    cudaDeviceSynchronize();\n",
        "    return 0;\n",
        "}"
      ],
      "metadata": {
        "colab": {
          "base_uri": "https://localhost:8080/"
        },
        "id": "fI5d8UF7aXTj",
        "outputId": "3478654c-2f9d-4ee9-8a04-e95ec2f38ed1"
      },
      "execution_count": null,
      "outputs": [
        {
          "output_type": "stream",
          "name": "stdout",
          "text": [
            "Writing hello_world_2D.cu\n"
          ]
        }
      ]
    },
    {
      "cell_type": "code",
      "source": [
        "!nvcc hello_world_2D.cu -o hello_world_2D"
      ],
      "metadata": {
        "id": "mUBXfHfRc0QL"
      },
      "execution_count": null,
      "outputs": []
    },
    {
      "cell_type": "code",
      "source": [
        "!./hello_world_2D"
      ],
      "metadata": {
        "colab": {
          "base_uri": "https://localhost:8080/"
        },
        "id": "u_IC8WYCc0dM",
        "outputId": "09e1a209-d798-4baa-fb53-23672059f7d9"
      },
      "execution_count": null,
      "outputs": [
        {
          "output_type": "stream",
          "name": "stdout",
          "text": [
            "Hello World from thread (4, 0)\n",
            "Hello World from thread (5, 0)\n",
            "Hello World from thread (6, 0)\n",
            "Hello World from thread (7, 0)\n",
            "Hello World from thread (4, 1)\n",
            "Hello World from thread (5, 1)\n",
            "Hello World from thread (6, 1)\n",
            "Hello World from thread (7, 1)\n",
            "Hello World from thread (4, 2)\n",
            "Hello World from thread (5, 2)\n",
            "Hello World from thread (6, 2)\n",
            "Hello World from thread (7, 2)\n",
            "Hello World from thread (4, 3)\n",
            "Hello World from thread (5, 3)\n",
            "Hello World from thread (6, 3)\n",
            "Hello World from thread (7, 3)\n",
            "Hello World from thread (4, 4)\n",
            "Hello World from thread (5, 4)\n",
            "Hello World from thread (6, 4)\n",
            "Hello World from thread (7, 4)\n",
            "Hello World from thread (4, 5)\n",
            "Hello World from thread (5, 5)\n",
            "Hello World from thread (6, 5)\n",
            "Hello World from thread (7, 5)\n",
            "Hello World from thread (4, 6)\n",
            "Hello World from thread (5, 6)\n",
            "Hello World from thread (6, 6)\n",
            "Hello World from thread (7, 6)\n",
            "Hello World from thread (4, 7)\n",
            "Hello World from thread (5, 7)\n",
            "Hello World from thread (6, 7)\n",
            "Hello World from thread (7, 7)\n",
            "Hello World from thread (0, 4)\n",
            "Hello World from thread (1, 4)\n",
            "Hello World from thread (2, 4)\n",
            "Hello World from thread (3, 4)\n",
            "Hello World from thread (0, 5)\n",
            "Hello World from thread (1, 5)\n",
            "Hello World from thread (2, 5)\n",
            "Hello World from thread (3, 5)\n",
            "Hello World from thread (0, 6)\n",
            "Hello World from thread (1, 6)\n",
            "Hello World from thread (2, 6)\n",
            "Hello World from thread (3, 6)\n",
            "Hello World from thread (0, 7)\n",
            "Hello World from thread (1, 7)\n",
            "Hello World from thread (2, 7)\n",
            "Hello World from thread (3, 7)\n",
            "Hello World from thread (0, 0)\n",
            "Hello World from thread (1, 0)\n",
            "Hello World from thread (2, 0)\n",
            "Hello World from thread (3, 0)\n",
            "Hello World from thread (0, 1)\n",
            "Hello World from thread (1, 1)\n",
            "Hello World from thread (2, 1)\n",
            "Hello World from thread (3, 1)\n",
            "Hello World from thread (0, 2)\n",
            "Hello World from thread (1, 2)\n",
            "Hello World from thread (2, 2)\n",
            "Hello World from thread (3, 2)\n",
            "Hello World from thread (0, 3)\n",
            "Hello World from thread (1, 3)\n",
            "Hello World from thread (2, 3)\n",
            "Hello World from thread (3, 3)\n"
          ]
        }
      ]
    },
    {
      "cell_type": "code",
      "source": [],
      "metadata": {
        "id": "y5b7whESc014"
      },
      "execution_count": null,
      "outputs": []
    }
  ]
}